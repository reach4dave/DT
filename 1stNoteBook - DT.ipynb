{
 "cells": [
  {
   "cell_type": "code",
   "execution_count": 2,
   "id": "8b733b6c",
   "metadata": {},
   "outputs": [
    {
     "name": "stdout",
     "output_type": "stream",
     "text": [
      "helloworld!\n"
     ]
    }
   ],
   "source": [
    "print(\"helloworld!\")"
   ]
  },
  {
   "cell_type": "code",
   "execution_count": 3,
   "id": "316ce868",
   "metadata": {},
   "outputs": [
    {
     "name": "stdout",
     "output_type": "stream",
     "text": [
      "hi! my name is dev...\n"
     ]
    }
   ],
   "source": [
    "print(\"hi! my name is dev...\")"
   ]
  },
  {
   "cell_type": "code",
   "execution_count": 4,
   "id": "2341c87c",
   "metadata": {},
   "outputs": [
    {
     "ename": "NameError",
     "evalue": "name 'hello' is not defined",
     "output_type": "error",
     "traceback": [
      "\u001b[1;31m---------------------------------------------------------------------------\u001b[0m",
      "\u001b[1;31mNameError\u001b[0m                                 Traceback (most recent call last)",
      "\u001b[1;32m~\\AppData\\Local\\Temp/ipykernel_10408/3936606730.py\u001b[0m in \u001b[0;36m<module>\u001b[1;34m\u001b[0m\n\u001b[1;32m----> 1\u001b[1;33m \u001b[0mprint\u001b[0m\u001b[1;33m(\u001b[0m\u001b[0mhello\u001b[0m\u001b[1;33m)\u001b[0m\u001b[1;33m\u001b[0m\u001b[1;33m\u001b[0m\u001b[0m\n\u001b[0m",
      "\u001b[1;31mNameError\u001b[0m: name 'hello' is not defined"
     ]
    }
   ],
   "source": [
    "print(hello)"
   ]
  },
  {
   "cell_type": "code",
   "execution_count": 10,
   "id": "87f83d04",
   "metadata": {},
   "outputs": [
    {
     "name": "stdout",
     "output_type": "stream",
     "text": [
      "7\n",
      "78\n",
      "78 7\n",
      "7 78\n"
     ]
    }
   ],
   "source": [
    "y=7\n",
    "x=78\n",
    "print(y)\n",
    "print(x)\n",
    "print(x,y)\n",
    "print(y,x)"
   ]
  },
  {
   "cell_type": "code",
   "execution_count": 13,
   "id": "77197815",
   "metadata": {},
   "outputs": [
    {
     "name": "stdout",
     "output_type": "stream",
     "text": [
      "85\n",
      "71\n",
      "-71\n"
     ]
    }
   ],
   "source": [
    "print(x+y)\n",
    "print(x-y)\n",
    "print(y-x)"
   ]
  },
  {
   "cell_type": "code",
   "execution_count": 14,
   "id": "e85f6a10",
   "metadata": {},
   "outputs": [
    {
     "name": "stdout",
     "output_type": "stream",
     "text": [
      "546\n"
     ]
    }
   ],
   "source": [
    "z=x*y\n",
    "print(z)"
   ]
  },
  {
   "cell_type": "code",
   "execution_count": 15,
   "id": "c79a848b",
   "metadata": {},
   "outputs": [
    {
     "name": "stdout",
     "output_type": "stream",
     "text": [
      "sum of x & y= 85\n"
     ]
    }
   ],
   "source": [
    "print('sum of x & y=',x+y)"
   ]
  },
  {
   "cell_type": "code",
   "execution_count": 19,
   "id": "977d4206",
   "metadata": {},
   "outputs": [
    {
     "name": "stdout",
     "output_type": "stream",
     "text": [
      "the values of x & y are 78 & 7 respectively\n"
     ]
    }
   ],
   "source": [
    "print('the values of x & y are',x,'&',y,'respectively')"
   ]
  },
  {
   "cell_type": "code",
   "execution_count": 20,
   "id": "80c4f3b8",
   "metadata": {},
   "outputs": [
    {
     "name": "stdout",
     "output_type": "stream",
     "text": [
      "multiplication of x & y = 546\n"
     ]
    }
   ],
   "source": [
    "print('multiplication of x & y =',x*y)"
   ]
  },
  {
   "cell_type": "code",
   "execution_count": null,
   "id": "013dc346",
   "metadata": {},
   "outputs": [],
   "source": []
  }
 ],
 "metadata": {
  "kernelspec": {
   "display_name": "Python 3 (ipykernel)",
   "language": "python",
   "name": "python3"
  },
  "language_info": {
   "codemirror_mode": {
    "name": "ipython",
    "version": 3
   },
   "file_extension": ".py",
   "mimetype": "text/x-python",
   "name": "python",
   "nbconvert_exporter": "python",
   "pygments_lexer": "ipython3",
   "version": "3.9.7"
  }
 },
 "nbformat": 4,
 "nbformat_minor": 5
}
